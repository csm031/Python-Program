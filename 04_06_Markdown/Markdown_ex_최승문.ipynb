{
 "cells": [
  {
   "cell_type": "markdown",
   "id": "bad71013-0af0-410b-9b8c-a33393f5691b",
   "metadata": {},
   "source": [
    "# Markdown 언어 실습"
   ]
  },
  {
   "cell_type": "markdown",
   "id": "429e54a2-e916-449b-b36b-d77ad0b05f62",
   "metadata": {},
   "source": [
    "## 1.Header 작성 (Markdown 언어)"
   ]
  },
  {
   "cell_type": "markdown",
   "id": "87d14531-fe33-4c0c-9f70-d1c5cd13fd95",
   "metadata": {},
   "source": [
    "<a id=\"header\"></a>"
   ]
  },
  {
   "cell_type": "markdown",
   "id": "1f4034ab-08bd-4f86-b5cd-07fb2748bba6",
   "metadata": {},
   "source": [
    "# Header\n",
    "## Header\n",
    "### Header\n",
    "#### Header\n",
    "##### Header\n",
    "###### Header"
   ]
  },
  {
   "cell_type": "raw",
   "id": "67c225a9-0808-4145-8c27-63ca1a040baa",
   "metadata": {},
   "source": [
    "# Header\n",
    "## Header\n",
    "### Header\n",
    "#### Header\n",
    "##### Header\n",
    "###### Header"
   ]
  },
  {
   "cell_type": "markdown",
   "id": "0df5d0c8-7509-445c-b82b-f56c7ab5a14d",
   "metadata": {},
   "source": [
    "## 2. Header 작성 (HTML 언어) "
   ]
  },
  {
   "cell_type": "markdown",
   "id": "279c7767-29db-4aaa-949e-7bb6952b53a5",
   "metadata": {},
   "source": [
    "<h1>Header</h1>\n",
    "<h2>Header</h2>\n",
    "<h3>Header</h3>\n",
    "<h4>Header</h4>\n",
    "<h5>Header</h5>\n",
    "<h6>Header</h6>"
   ]
  },
  {
   "cell_type": "raw",
   "id": "385b6134-e924-4ed8-a28f-ab76e86b14b6",
   "metadata": {},
   "source": [
    "<h1>Header</h1>\n",
    "<h2>Header</h2>\n",
    "<h3>Header</h3>\n",
    "<h4>Header</h4>\n",
    "<h5>Header</h5>\n",
    "<h6>Header</h6>"
   ]
  },
  {
   "cell_type": "markdown",
   "id": "e53954f8-3260-4648-b13e-b89d62cd5afb",
   "metadata": {},
   "source": [
    "---"
   ]
  },
  {
   "cell_type": "markdown",
   "id": "8b7fd593-da13-487a-b43f-f814b4d3baf7",
   "metadata": {},
   "source": [
    "<a id=\"bold_text\"></a>"
   ]
  },
  {
   "cell_type": "markdown",
   "id": "7a3d603c-e6dd-4195-81c7-25031e4ffe8f",
   "metadata": {},
   "source": [
    "## Bold Text\n",
    "1. Bold Text 작성 (Markdown 언어)"
   ]
  },
  {
   "cell_type": "markdown",
   "id": "490d3c98-3964-424e-9939-5d8375d6bab5",
   "metadata": {},
   "source": [
    "이 글은 __굵게__ 작성된 내용입니다.  \n",
    "**이 글은 굵게 작성된 내용입니다.**"
   ]
  },
  {
   "cell_type": "raw",
   "id": "39555329-7c84-46d1-80fa-9a637c44fb3e",
   "metadata": {},
   "source": [
    "이 글은 __굵게__ 작성된 내용입니다.  \n",
    "**이 글은 굵게 작성된 내용입니다.**"
   ]
  },
  {
   "cell_type": "markdown",
   "id": "a5b29d14-7acf-42b5-b79a-3b1d1013a6d1",
   "metadata": {},
   "source": [
    "2. Bold Text 작성 (HTML 언어)"
   ]
  },
  {
   "cell_type": "markdown",
   "id": "b3601a45-8110-4e4c-996f-3c5a95a226d9",
   "metadata": {},
   "source": [
    "이 글은 <b>굵게</b> 작성된 내용입니다.<br>\n",
    "<strong>이 글은 굵게 작성된 내용입니다.</strong>"
   ]
  },
  {
   "cell_type": "raw",
   "id": "83762aa1-f769-4015-8725-74946feb425b",
   "metadata": {},
   "source": [
    "이 글은 <b>굵게</b> 작성된 내용입니다.<br>\n",
    "<strong>이 글은 굵게 작성된 내용입니다.</strong>"
   ]
  },
  {
   "cell_type": "markdown",
   "id": "d91a6bd9-e38f-4a75-86ac-44b3bf74ee4f",
   "metadata": {},
   "source": [
    "---"
   ]
  },
  {
   "cell_type": "markdown",
   "id": "710e95a9-d9c3-4cab-ab6c-c647e9eeded5",
   "metadata": {},
   "source": [
    "# Italic Text\n",
    "1. ltalic Text 작성 (Markdown 언어)"
   ]
  },
  {
   "cell_type": "markdown",
   "id": "98f6360f-9a75-4b0e-a190-7021194232ff",
   "metadata": {},
   "source": [
    "*이 글은 기울기가 적용된 내용입니다.*  \n",
    "이 글은 *기울기*가 적용된 내용입니다."
   ]
  },
  {
   "cell_type": "raw",
   "id": "f18e9c41-e777-4197-9466-2002d48628d0",
   "metadata": {},
   "source": [
    "*이 글은 기울기가 적용된 내용입니다.*  \n",
    "이 글은 *기울기*가 적용된 내용입니다."
   ]
  },
  {
   "cell_type": "markdown",
   "id": "d570229e-84cd-4d2d-93ef-8551d0aeb972",
   "metadata": {},
   "source": [
    "2. ltalic Text 작성 (HTML 언어)"
   ]
  },
  {
   "cell_type": "markdown",
   "id": "1cee8f0c-e6e6-4db5-8d1d-0c105d583793",
   "metadata": {},
   "source": [
    "<i>이 글은 기울기가 적용된 내용입니다.</i> <br>\n",
    "이 글은 <em>기울기</em>가 적용된 내용입니다."
   ]
  },
  {
   "cell_type": "raw",
   "id": "4b71d53f-35e4-4b45-b039-c1b00ffd509e",
   "metadata": {},
   "source": [
    "<i>이 글은 기울기가 적용된 내용입니다.</i> <br>\n",
    "이 글은 <em>기울기</em>가 적용된 내용입니다."
   ]
  },
  {
   "cell_type": "markdown",
   "id": "052b5490-7772-41ad-9393-037228c08fba",
   "metadata": {},
   "source": [
    "---"
   ]
  },
  {
   "cell_type": "markdown",
   "id": "5378d69d-8f67-4064-a1b5-b0186d7232ba",
   "metadata": {},
   "source": [
    "# Bold & Italic Text"
   ]
  },
  {
   "cell_type": "markdown",
   "id": "4210f4fd-62da-4235-8d35-d17f5fd51af0",
   "metadata": {},
   "source": [
    "1. Bold & Italic Text 작성 (Markdown 언어)"
   ]
  },
  {
   "cell_type": "markdown",
   "id": "cb6c00b4-9926-4525-8780-6b2f248c0174",
   "metadata": {},
   "source": [
    "이 글은 ***굵게 그리고 기울기***가 동시에 적용된 내용입니다. \n",
    "\n",
    "***이 글은 굵게 그리고 기울기가 동시에 적용된 내용입니다.***"
   ]
  },
  {
   "cell_type": "raw",
   "id": "721068b3-b0ab-47bf-9e7d-c1da88a151ee",
   "metadata": {},
   "source": [
    "이 글은 ***굵게 그리고 기울기***가 동시에 적용된 내용입니다. \n",
    "\n",
    "***이 글은 굵게 그리고 기울기가 동시에 적용된 내용입니다.***"
   ]
  },
  {
   "cell_type": "markdown",
   "id": "26648fb7-eb4f-4816-afca-2a6159b19d98",
   "metadata": {},
   "source": [
    "2.Bold & Italic Text 작성 (HTML 언어)"
   ]
  },
  {
   "cell_type": "markdown",
   "id": "ed495169-ed6c-4cbf-b5c9-8e9cb92b0083",
   "metadata": {},
   "source": [
    "이 글은 <b><i>굵게 그리고 기울기</i></b>가 동시에 적용된 내용입니다.<br>\n",
    "<strong><em>이 글은 굵게 그리고 기울기가 동시에 적용된 내용입니다.</em></strong>"
   ]
  },
  {
   "cell_type": "code",
   "execution_count": null,
   "id": "4b1eabdb-7eb9-4412-b415-4301e0b2b81e",
   "metadata": {},
   "outputs": [],
   "source": [
    "이 글은 <b><i>굵게 그리고 기울기</i></b>가 동시에 적용된 내용입니다.<br>\n",
    "<strong><em>이 글은 굵게 그리고 기울기가 동시에 적용된 내용입니다.</em></strong>"
   ]
  },
  {
   "cell_type": "markdown",
   "id": "b5b45ab2-fe26-4b9d-aedf-cbf612c6ef08",
   "metadata": {},
   "source": [
    "---"
   ]
  },
  {
   "cell_type": "markdown",
   "id": "18d6cb56-71c4-4e19-abc6-50d4936ba264",
   "metadata": {},
   "source": [
    "# STRIKETHROUGH Text"
   ]
  },
  {
   "cell_type": "markdown",
   "id": "45c74aee-b721-43de-b671-1a89ace19728",
   "metadata": {},
   "source": [
    "1. STRIKETHROUGH Text 작성 (Markdown 언어)"
   ]
  },
  {
   "cell_type": "markdown",
   "id": "78367d3a-910d-4aec-9ad4-4fed8b77352a",
   "metadata": {},
   "source": [
    "~~이 글은 취소된 내용입니다.~~"
   ]
  },
  {
   "cell_type": "raw",
   "id": "22035819-1306-4d79-b306-350e1fb50fcb",
   "metadata": {},
   "source": [
    "~~이 글은 취소된 내용입니다.~~"
   ]
  },
  {
   "cell_type": "markdown",
   "id": "cc91de9f-b0a3-44c2-9aea-bf1d964cf41b",
   "metadata": {},
   "source": [
    "2. STRIKETHROUGH Text 작성 (HTML 언어)"
   ]
  },
  {
   "cell_type": "markdown",
   "id": "bfb5a222-ea8c-48bb-a25a-ed0e7b2ebe5c",
   "metadata": {},
   "source": [
    "<del> 이 글은 취소된 내용입니다.</del>"
   ]
  },
  {
   "cell_type": "raw",
   "id": "9cc1973d-fdee-4dd0-a360-10e3968b1031",
   "metadata": {},
   "source": [
    "<del>이 글은 취소된 내용입니다.</del>"
   ]
  },
  {
   "cell_type": "markdown",
   "id": "a1d57319-99f0-4e5e-a744-d334a2b02880",
   "metadata": {},
   "source": [
    "---"
   ]
  },
  {
   "cell_type": "markdown",
   "id": "16631ca5-5363-4b20-825c-6eee884ead1a",
   "metadata": {},
   "source": [
    "# BACKSLASH ESCAPE\n",
    "- BACKSLASH ESCAPE 작성 (Markdown 언어)\n",
    "    + 마크다운언어를 통해 \"#\"문자를 작성하고자 할 때는, 역슬래쉬(\\\\)문자를 활용 "
   ]
  },
  {
   "cell_type": "markdown",
   "id": "89a85fc8-2d8a-47e1-bbf9-3294f5bb912a",
   "metadata": {},
   "source": [
    "\\# Not Header"
   ]
  },
  {
   "cell_type": "raw",
   "id": "20191cea-2038-461a-9e8d-e8cfc23e3d12",
   "metadata": {},
   "source": [
    "\\# Not Header"
   ]
  },
  {
   "cell_type": "markdown",
   "id": "2f126105-1100-46bd-831e-2a9e78872d0f",
   "metadata": {},
   "source": [
    "\\*\\*이 글은 굵게 작성되지 않은 내용입니다.\\*\\*"
   ]
  },
  {
   "cell_type": "raw",
   "id": "ea397bf1-19f3-4260-85c7-e414c52d8fdc",
   "metadata": {},
   "source": [
    "\\*\\*이 글은 굵게 작성되지 않은 내용입니다.\\*\\*"
   ]
  },
  {
   "cell_type": "markdown",
   "id": "cb0141ad-7212-4adb-aa26-ac4dcda49e5d",
   "metadata": {},
   "source": [
    "---"
   ]
  },
  {
   "cell_type": "markdown",
   "id": "6ed7d027-0b49-4cf0-9618-8b7e5754bfc6",
   "metadata": {},
   "source": [
    "# PARAGRAPHS"
   ]
  },
  {
   "cell_type": "markdown",
   "id": "336cfcd2-b234-4345-9648-246a7f85ab04",
   "metadata": {},
   "source": [
    "1. PARAGRAPHS 작성 (Markdown 언어)"
   ]
  },
  {
   "cell_type": "markdown",
   "id": "9ee0999b-1f5d-4e24-bf72-9f5f4ca64619",
   "metadata": {},
   "source": [
    "이 글은 첫 번째 문장입니다.  \n",
    "이 글은 두 번째 문장입니다."
   ]
  },
  {
   "cell_type": "raw",
   "id": "dfb6b37a-ea02-440f-a975-49350c61c096",
   "metadata": {},
   "source": [
    "이 글은 첫 번째 문장입니다.  \n",
    "이 글은 두 번째 문장입니다."
   ]
  },
  {
   "cell_type": "markdown",
   "id": "294975f1-2f53-4ec7-9a42-fd057dca1d17",
   "metadata": {},
   "source": [
    "2. PARAGRAPHS 작성 (HTML 언어)"
   ]
  },
  {
   "cell_type": "markdown",
   "id": "ad93dead-87bf-48fc-97b8-b849f8b07617",
   "metadata": {},
   "source": [
    "<p>이 글은 첫 번째 문장입니다.</p>\n",
    "<p>이 글은 두 번째 문장입니다.</p>"
   ]
  },
  {
   "cell_type": "markdown",
   "id": "9d3f246a-e660-4888-a5e8-f66b75f46036",
   "metadata": {},
   "source": [
    "<p>이 글은 첫 번째 문장입니다.</p>\n",
    "<p>이 글은 두 번째 문장입니다.</p>"
   ]
  },
  {
   "cell_type": "markdown",
   "id": "8fe97e26-58bf-4d71-ac95-3b23fb4ff5a4",
   "metadata": {},
   "source": [
    "---"
   ]
  },
  {
   "cell_type": "markdown",
   "id": "7b5f3ed2-7f59-4f1f-8b8c-1378f97e442c",
   "metadata": {},
   "source": [
    "# BLOCKQUOTEST"
   ]
  },
  {
   "cell_type": "markdown",
   "id": "1ab57ad3-0842-4407-ac76-0b9268a2afd1",
   "metadata": {},
   "source": [
    "1. BLOCKQUOTEST 작성 (Markdown 언어)"
   ]
  },
  {
   "cell_type": "markdown",
   "id": "fc77bd9b-abd5-4157-9c08-ba7a6dfefd01",
   "metadata": {},
   "source": [
    "> 이 글은 인용문입니다."
   ]
  },
  {
   "cell_type": "raw",
   "id": "bc2e7f6e-f6c3-447d-90f9-ac25f1e25419",
   "metadata": {},
   "source": [
    "> 이 글은 인용문입니다."
   ]
  },
  {
   "cell_type": "markdown",
   "id": "1c088273-cdfb-4a0a-83fc-793f015b3f19",
   "metadata": {},
   "source": [
    "2. BLOCKQUOTEST 작성 (HTML 언어)"
   ]
  },
  {
   "cell_type": "markdown",
   "id": "99b1b00e-276a-4c83-8887-c44cf97bfcad",
   "metadata": {},
   "source": [
    "<blockquote>이 글은 인용문입니다.</blockquote>"
   ]
  },
  {
   "cell_type": "raw",
   "id": "120de95f-22bc-4422-a366-3bcf689a54b4",
   "metadata": {},
   "source": [
    "<blockquote>이 글은 인용문입니다.</blockquote>"
   ]
  },
  {
   "cell_type": "markdown",
   "id": "48aa8eb7-aa97-4106-83ed-be61e2814206",
   "metadata": {},
   "source": [
    "---"
   ]
  },
  {
   "cell_type": "markdown",
   "id": "b28cfef5-c32a-45ea-8807-10f60469504f",
   "metadata": {},
   "source": [
    "# NESTED BLOCK QUOTING"
   ]
  },
  {
   "cell_type": "markdown",
   "id": "db76edb9-34cd-4599-9b54-f1db92dde725",
   "metadata": {},
   "source": [
    "1. NESTED BLOCK QUOTING 작성 (Markdown 언어)"
   ]
  },
  {
   "cell_type": "markdown",
   "id": "4b273222-8237-4d13-8957-6d9e8c1d5922",
   "metadata": {},
   "source": [
    "> 1수준 인용문\n",
    ">> 2수준 인용문\n",
    ">>> 3수준 인용문"
   ]
  },
  {
   "cell_type": "markdown",
   "id": "30aaf157-ed65-45ba-adcc-c8e144477538",
   "metadata": {},
   "source": [
    "> 1수준 인용문\n",
    ">> 2수준 인용문\n",
    ">>> 3수준 인용문"
   ]
  },
  {
   "cell_type": "markdown",
   "id": "c847f7cb-aa68-446e-b140-79293500be1d",
   "metadata": {},
   "source": [
    "2. NESTED BLOCK QUOTING 작성 (HTML 언어)"
   ]
  },
  {
   "cell_type": "markdown",
   "id": "f5a7af94-f3c5-4b60-8ad3-14a861135fc5",
   "metadata": {},
   "source": [
    "<blockquote> \n",
    "<p>1수준 인용문</p> \n",
    "<blockquote> \n",
    "<p>2수준 인용문</p> \n",
    "<blockquote> \n",
    "<p>3수준 인용문</p> \n",
    "</blockquote> \n",
    "</blockquote> \n",
    "</blockquote>"
   ]
  },
  {
   "cell_type": "raw",
   "id": "99fce34e-dc67-4be6-9cdf-4afc33d8d88d",
   "metadata": {},
   "source": [
    "<blockquote> \n",
    "    <p>1수준 인용문</p> \n",
    "    <blockquote> \n",
    "        <p>2수준 인용문</p> \n",
    "        <blockquote> \n",
    "            <p>3수준 인용문</p> \n",
    "        </blockquote> \n",
    "    </blockquote> \n",
    "</blockquote>"
   ]
  },
  {
   "cell_type": "markdown",
   "id": "c9198dcc-c457-4641-b236-73db8c49234c",
   "metadata": {},
   "source": [
    "---"
   ]
  },
  {
   "cell_type": "markdown",
   "id": "795e697e-0831-4a3c-bac5-c79b4c2c8bf2",
   "metadata": {},
   "source": [
    "# HORIZONTAL LINE (수평선)"
   ]
  },
  {
   "cell_type": "markdown",
   "id": "02c0743b-4f7d-42e2-8b2e-ed8c1415bce7",
   "metadata": {},
   "source": [
    "1. HORIZONTAL LINE 작성 (Markdown 언어)"
   ]
  },
  {
   "cell_type": "markdown",
   "id": "1fc54456-1b2b-4b1b-92bd-ca2b7562c423",
   "metadata": {},
   "source": [
    "---\n",
    "___\n",
    "***"
   ]
  },
  {
   "cell_type": "raw",
   "id": "22668642-0709-44c2-a2cb-5b0d41fa4872",
   "metadata": {},
   "source": [
    "---\n",
    "___\n",
    "***"
   ]
  },
  {
   "cell_type": "markdown",
   "id": "649d6603-b4ee-407c-9212-facd5303955c",
   "metadata": {},
   "source": [
    "2. HORIZONTAL LINE 작성 (HTML 언어)"
   ]
  },
  {
   "cell_type": "markdown",
   "id": "b8e3170a-936e-435c-a6f6-91a5d8622cb6",
   "metadata": {},
   "source": [
    "<hr>"
   ]
  },
  {
   "cell_type": "raw",
   "id": "265339ab-921f-48f6-9f28-b7d8b17c7a76",
   "metadata": {},
   "source": [
    "<hr>"
   ]
  },
  {
   "cell_type": "markdown",
   "id": "e4809631-a4ee-4c5f-b214-ad84da25de75",
   "metadata": {},
   "source": [
    "# ORDERED LIST "
   ]
  },
  {
   "cell_type": "markdown",
   "id": "07f16a75-aa0a-4ef5-9f88-a97de9ab8849",
   "metadata": {
    "jp-MarkdownHeadingCollapsed": true
   },
   "source": [
    "1.ORDERED LIST 작성 (Markdown 언어)"
   ]
  },
  {
   "cell_type": "markdown",
   "id": "43a31e96-57c9-4c77-ab08-21de8cc58e5c",
   "metadata": {},
   "source": [
    "1. 아이템 1\n",
    "2. 아이템 2\n",
    "3. 아이템 3\n",
    "4. 아이템 4\n",
    "5. 아이템 5"
   ]
  },
  {
   "cell_type": "raw",
   "id": "2845d726-d814-4e57-af7d-bb7e2147375a",
   "metadata": {},
   "source": [
    "1. 아이템 1\n",
    "2. 아이템 2\n",
    "3. 아이템 3\n",
    "4. 아이템 4\n",
    "5. 아이템 5"
   ]
  },
  {
   "cell_type": "markdown",
   "id": "0ef3f09b-a135-462c-b82e-c0d7a847f14e",
   "metadata": {
    "jp-MarkdownHeadingCollapsed": true
   },
   "source": [
    "2. ORDERED LIST 작성 (HTML 언어)"
   ]
  },
  {
   "cell_type": "markdown",
   "id": "0c76f4b3-f033-4876-b5c1-c11ce4ae3b33",
   "metadata": {},
   "source": [
    "<ol>\n",
    "    <li>아이템 1</li>\n",
    "    <li>아이템 2</li>\n",
    "    <li>아이템 3</li>\n",
    "    <li>아이템 4</li>\n",
    "    <li>아이템 5</li>\n",
    "</ol>"
   ]
  },
  {
   "cell_type": "raw",
   "id": "4bb99320-1707-45d8-8445-ec1a4463cba7",
   "metadata": {},
   "source": [
    "<ol>\n",
    "    <li>아이템 1</li>\n",
    "    <li>아이템 2</li>\n",
    "    <li>아이템 3</li>\n",
    "    <li>아이템 4</li>\n",
    "    <li>아이템 5</li>\n",
    "</ol>"
   ]
  },
  {
   "cell_type": "markdown",
   "id": "58e89a0a-42df-44c4-bbd2-67df070868ba",
   "metadata": {},
   "source": [
    "<hr>"
   ]
  },
  {
   "cell_type": "markdown",
   "id": "cd9b56fd-7592-4893-8337-deb0dd1e9686",
   "metadata": {},
   "source": [
    "# NESTED ORDERED LIST "
   ]
  },
  {
   "cell_type": "markdown",
   "id": "cd47df7c-bc13-4775-8245-9359cda87b2b",
   "metadata": {},
   "source": [
    "#### NESTED ORDERED LIST 작성 (Markdown 언어)"
   ]
  },
  {
   "cell_type": "markdown",
   "id": "62f7ff83-4a05-4fd3-87ca-3a036b2f8750",
   "metadata": {},
   "source": [
    "1. 아이템 1\n",
    "    1. 서브 아이템 1\n",
    "    2. 서브 아이템 2\n",
    "    3. 서브 아이템 3\n",
    "2. 아이템 2\n",
    "3. 아이템 3"
   ]
  },
  {
   "cell_type": "raw",
   "id": "e979a087-9807-4fe7-a69d-128b4bb72c07",
   "metadata": {},
   "source": [
    "1. 아이템 1\n",
    "    1. 서브 아이템 1\n",
    "    2. 서브 아이템 2\n",
    "    3. 서브 아이템 3\n",
    "2. 아이템 2\n",
    "3. 아이템 3"
   ]
  },
  {
   "cell_type": "markdown",
   "id": "08d4b86d-bf16-4e59-ae0c-74ff24893577",
   "metadata": {},
   "source": [
    "### NESTED ORDERED LIST 작성 (HTML 언어)"
   ]
  },
  {
   "cell_type": "markdown",
   "id": "57187e0f-8528-461b-9cda-7208b8a14464",
   "metadata": {},
   "source": [
    "<ol>\n",
    "    <li>아이템 1</li>\n",
    "    <ol>\n",
    "        <li>서브 아이템 1</li>\n",
    "        <li>서브 아이템 2</li>\n",
    "        <li>서브 아이템 3</li>\n",
    "    </ol>\n",
    "    <li>아이템 2</li>\n",
    "    <li>아이템 3</li>    \n",
    "</ol>"
   ]
  },
  {
   "cell_type": "raw",
   "id": "98412972-f804-4a16-9eff-6c3605bac47b",
   "metadata": {},
   "source": [
    "<ol>\n",
    "    <li>아이템 1</li>\n",
    "    <ol>\n",
    "        <li>서브 아이템 1</li>\n",
    "        <li>서브 아이템 2</li>\n",
    "        <li>서브 아이템 3</li>\n",
    "    </ol>\n",
    "    <li>아이템 2</li>\n",
    "    <li>아이템 3</li>    \n",
    "</ol>"
   ]
  },
  {
   "cell_type": "markdown",
   "id": "7063b1a5-2e21-4883-8737-5a282c454399",
   "metadata": {},
   "source": [
    "<hr>"
   ]
  },
  {
   "cell_type": "markdown",
   "id": "dc2216ea-f033-4d9a-abb3-c41cdb296e17",
   "metadata": {},
   "source": [
    "# UNORDERDED LIST"
   ]
  },
  {
   "cell_type": "markdown",
   "id": "3800ea60-3f0e-4759-aa34-6c9a9ba93f4a",
   "metadata": {},
   "source": [
    "### 1. UNORDERD LIST 작성 (Markdown 언어)"
   ]
  },
  {
   "cell_type": "markdown",
   "id": "0b042dc4-3b35-4884-bf3b-af6e75bfdeed",
   "metadata": {},
   "source": [
    "- 아이템 1\n",
    "- 아이템 2\n",
    "  + 서브아이템 2-1\n",
    "  + 서브아이템 2-2"
   ]
  },
  {
   "cell_type": "raw",
   "id": "84a89df8-a228-4a6b-846b-3b2771b84af3",
   "metadata": {},
   "source": [
    "- 아이템 1\n",
    "- 아이템 2\n",
    "  + 서브아이템 2-1\n",
    "  + 서브아이템 2-2"
   ]
  },
  {
   "cell_type": "markdown",
   "id": "d01f19c9-6b87-462c-9574-46604301dc79",
   "metadata": {},
   "source": [
    "### 2. UNORDERD LIST 작성 (HTML 언어)"
   ]
  },
  {
   "cell_type": "markdown",
   "id": "9c37ecbc-d59a-4959-a847-cd90d9e84172",
   "metadata": {},
   "source": [
    "<ul>\n",
    "    <li>아이템 1</li>\n",
    "    <li>아이템 2</li>\n",
    "    <ul>\n",
    "        <li>서브아이템 2-1</li>\n",
    "        <li>서브아이템 2-2</li>\n",
    "    </ul>\n",
    "</ul>"
   ]
  },
  {
   "cell_type": "raw",
   "id": "5a737172-224e-4d4b-be1c-17fd1df530be",
   "metadata": {},
   "source": [
    "<ul>\n",
    "    <li>아이템 1</li>\n",
    "    <li>아이템 2</li>\n",
    "    <ul>\n",
    "        <li>서브아이템 2-1</li>\n",
    "        <li>서브아이템 2-2</li>\n",
    "    </ul>\n",
    "</ul>"
   ]
  },
  {
   "cell_type": "markdown",
   "id": "6fdb1c99-c769-4f5e-b136-ed8d5db9d5f0",
   "metadata": {},
   "source": [
    "<hr>"
   ]
  },
  {
   "cell_type": "markdown",
   "id": "f40c5d10-7c56-463f-a114-cafc218cf838",
   "metadata": {},
   "source": [
    "# Graphics"
   ]
  },
  {
   "cell_type": "markdown",
   "id": "5c77ef3d-b35d-4d2a-80d5-4bf169d739b4",
   "metadata": {},
   "source": [
    "#### 1. 사진 첨부하기 (Markdown 언어)"
   ]
  },
  {
   "cell_type": "markdown",
   "id": "16dd6eab-36f4-43a0-b64c-3cf156e5d7ff",
   "metadata": {},
   "source": [
    "![.](https://i.namu.wiki/i/mxMv5lNX8m8lUwu7yTjN6eNZh8JVuI6a_chEyMRc4V9oECkhVIl7OiPiGIOllv14uDVNuwRPVco8abCPe5xOiQ.svg)"
   ]
  },
  {
   "cell_type": "raw",
   "id": "d830c7e2-32e7-4509-aa1a-30ed3e6d59a7",
   "metadata": {},
   "source": [
    "![.](https://i.namu.wiki/i/mxMv5lNX8m8lUwu7yTjN6eNZh8JVuI6a_chEyMRc4V9oECkhVIl7OiPiGIOllv14uDVNuwRPVco8abCPe5xOiQ.svg)"
   ]
  },
  {
   "cell_type": "markdown",
   "id": "d51d741c-441e-40df-b558-bd8d6243237e",
   "metadata": {},
   "source": [
    "#### 2. 사진 첨부하기 (HTML 언어)"
   ]
  },
  {
   "cell_type": "markdown",
   "id": "b36627f6-edd0-4737-828b-ef223f8eceac",
   "metadata": {},
   "source": [
    "<img src=https://i.namu.wiki/i/mxMv5lNX8m8lUwu7yTjN6eNZh8JVuI6a_chEyMRc4V9oECkhVIl7OiPiGIOllv14uDVNuwRPVco8abCPe5xOiQ.svg>"
   ]
  },
  {
   "cell_type": "raw",
   "id": "5ca8430c-bed0-4299-aea0-9c157e848702",
   "metadata": {},
   "source": [
    "<img src=https://i.namu.wiki/i/mxMv5lNX8m8lUwu7yTjN6eNZh8JVuI6a_chEyMRc4V9oECkhVIl7OiPiGIOllv14uDVNuwRPVco8abCPe5xOiQ.svg>"
   ]
  },
  {
   "cell_type": "markdown",
   "id": "9cc4e5c3-c9e5-41f0-9d77-86f38a0987e1",
   "metadata": {},
   "source": [
    "<hr>"
   ]
  },
  {
   "cell_type": "markdown",
   "id": "2455f315-807f-4139-b9d7-a66986eee879",
   "metadata": {},
   "source": [
    "# Hyperlink"
   ]
  },
  {
   "cell_type": "markdown",
   "id": "380803cd-0272-40a7-8ec9-3a1ea7a1d691",
   "metadata": {},
   "source": [
    "1. Hyperlink 작성하기 (Markdown 언어)"
   ]
  },
  {
   "cell_type": "markdown",
   "id": "2cf7fd77-bf87-443a-a475-4fd537d71aff",
   "metadata": {},
   "source": [
    "https://www.naver.com/"
   ]
  },
  {
   "cell_type": "raw",
   "id": "f101c96d-a4fd-452a-b1ab-188b725865ae",
   "metadata": {},
   "source": [
    "https://www.naver.com/"
   ]
  },
  {
   "cell_type": "markdown",
   "id": "362a7d1f-1358-4efa-83df-d14a5e3258af",
   "metadata": {},
   "source": [
    "2. Hyperlink 작성하기 (HTML 언어)"
   ]
  },
  {
   "cell_type": "markdown",
   "id": "b37e5080-ed3d-43eb-a44e-c082e1c4dcc6",
   "metadata": {},
   "source": [
    "<a href =\"https://www.naver.com/\">https://www.naver.com/</a> "
   ]
  },
  {
   "cell_type": "raw",
   "id": "87d4b496-04e8-4f61-a5f8-41a3cf4a1d8a",
   "metadata": {},
   "source": [
    "<a href =\"https://www.naver.com/\">https://www.naver.com/</a> "
   ]
  },
  {
   "cell_type": "markdown",
   "id": "7e6e5661-37ef-42ae-bb81-b229a0eb1f59",
   "metadata": {},
   "source": [
    "<hr>"
   ]
  },
  {
   "cell_type": "markdown",
   "id": "7eb0066c-9a46-4e08-abda-0a8acc52e603",
   "metadata": {},
   "source": [
    "# Hyperlink by name"
   ]
  },
  {
   "cell_type": "markdown",
   "id": "504ec2bb-936b-4b0b-b45f-f0ffa890db85",
   "metadata": {},
   "source": [
    "1. Hyperlink by name 작성하기 (Markdown 언어)"
   ]
  },
  {
   "cell_type": "markdown",
   "id": "2bc9ee3b-139f-4c21-81ef-8cb965eac53d",
   "metadata": {},
   "source": [
    "[click me](https://www.naver.com/)"
   ]
  },
  {
   "cell_type": "raw",
   "id": "b787d028-354e-494f-817c-cf4b0f14d090",
   "metadata": {},
   "source": [
    "[click me](https://www.naver.com/)"
   ]
  },
  {
   "cell_type": "markdown",
   "id": "0c5e0b64-ba15-42e9-a242-92346010d9a7",
   "metadata": {},
   "source": [
    "2. Hyperlink by name 작성하기 (HTML 언어)"
   ]
  },
  {
   "cell_type": "markdown",
   "id": "9094743f-e74d-4e09-b474-5c9b078f4763",
   "metadata": {},
   "source": [
    "<a href=\"https://www.naver.com/\">click me </a>"
   ]
  },
  {
   "cell_type": "raw",
   "id": "6f9483de-279c-4dd2-8c36-aa21d93e720f",
   "metadata": {},
   "source": [
    "<a href=\"https://www.naver.com/\">click me </a>"
   ]
  },
  {
   "cell_type": "markdown",
   "id": "95b16986-eadd-4808-b2f6-a75ebf041056",
   "metadata": {},
   "source": [
    "<hr>"
   ]
  },
  {
   "cell_type": "markdown",
   "id": "731115b6-b5c8-4a87-95dc-51d15fd1edfb",
   "metadata": {},
   "source": [
    "# Anchor Links"
   ]
  },
  {
   "cell_type": "markdown",
   "id": "f1d00e5f-95fe-4c12-a0c1-b9806f47e109",
   "metadata": {},
   "source": [
    "1. Anchor Links 작성하기"
   ]
  },
  {
   "cell_type": "markdown",
   "id": "a3e3386b-7995-43df-9f52-91e51e741d5c",
   "metadata": {},
   "source": [
    "**클릭하면 해당 링크로 이동**\n",
    "- [Header](#header)\n",
    "- [Bold](#bold_text)"
   ]
  },
  {
   "cell_type": "raw",
   "id": "72fa4c07-5e4b-4a1f-b848-b0586742db75",
   "metadata": {},
   "source": [
    "- [Header](#header)\n",
    "- [Bold](#bold_text)"
   ]
  },
  {
   "cell_type": "markdown",
   "id": "b8f7b03e-c232-4b8a-9719-5571bb873a0c",
   "metadata": {},
   "source": [
    "<hr>"
   ]
  },
  {
   "cell_type": "markdown",
   "id": "3ce0de2a-0cf9-49ff-892c-dfb3826c63ad",
   "metadata": {},
   "source": [
    "# Task Lists"
   ]
  },
  {
   "cell_type": "markdown",
   "id": "4068b984-00dc-4ebd-b44c-cea100cc251d",
   "metadata": {},
   "source": [
    "1. Task Lists 작성"
   ]
  },
  {
   "cell_type": "markdown",
   "id": "dc27ef41-fd6e-4e65-bc2b-3e13a5ce44a2",
   "metadata": {},
   "source": [
    "- [x] 오늘 할일  \n",
    "- [ ] 내일 할일"
   ]
  },
  {
   "cell_type": "raw",
   "id": "bfcb5993-aa3b-4dd4-b1e1-d91ec5cffc15",
   "metadata": {},
   "source": [
    "- [x] 오늘 할일  \n",
    "- [ ] 내일 할일"
   ]
  },
  {
   "cell_type": "markdown",
   "id": "b1cd86c8-f5cc-443a-9781-84bcd5c57028",
   "metadata": {},
   "source": [
    "# Inline HTML"
   ]
  },
  {
   "cell_type": "markdown",
   "id": "4e5d06f7-3477-4a96-b55f-5d13c51ee07b",
   "metadata": {},
   "source": [
    "1. Inline HTML 작성"
   ]
  },
  {
   "cell_type": "markdown",
   "id": "b4255a08-3f17-4912-9c89-f1330f024783",
   "metadata": {},
   "source": [
    "<span style=\"color:red;\">이 글은 스타일이 적용된 문장입니다. </span>"
   ]
  },
  {
   "cell_type": "raw",
   "id": "aa9b3a47-25ee-42df-a859-7307e010ed6f",
   "metadata": {},
   "source": [
    "<span style=\"color:red;\">이 글은 스타일이 적용된 문장입니다. </span>"
   ]
  },
  {
   "cell_type": "markdown",
   "id": "dde498e8-8baf-44fe-be19-c858d0c9ba89",
   "metadata": {},
   "source": [
    "# \\# Code section"
   ]
  },
  {
   "cell_type": "markdown",
   "id": "e8946dc7-e30a-4201-8f88-cfe6603bb4a0",
   "metadata": {},
   "source": [
    "1. Code section 작성"
   ]
  },
  {
   "cell_type": "markdown",
   "id": "95e2249b-4a0d-4a08-a55d-7f15b842257f",
   "metadata": {},
   "source": [
    "```java\n",
    "//java\n",
    "int a = 10;\n",
    "System.out.println(a);\n",
    "```\n",
    "```python\n",
    "#python\n",
    "a = 10 \n",
    "print(a)\n",
    "```"
   ]
  },
  {
   "cell_type": "raw",
   "id": "20b4fa61-f36d-4c22-8787-d8a46669320e",
   "metadata": {},
   "source": [
    "```java\n",
    "//java\n",
    "int a = 10;\n",
    "System.out.println(a);\n",
    "```\n",
    "```python\n",
    "#python\n",
    "a = 10 \n",
    "print(a)\n",
    "```"
   ]
  },
  {
   "cell_type": "markdown",
   "id": "43c9de73-66af-45d3-a4b4-1c61c6f83cb9",
   "metadata": {},
   "source": [
    "# Latex 수식"
   ]
  },
  {
   "cell_type": "markdown",
   "id": "9f1b574c-a980-4a7b-a7de-115f184fda02",
   "metadata": {},
   "source": [
    "1. Latex 작성"
   ]
  },
  {
   "cell_type": "raw",
   "id": "778fdce0-7861-4eae-85bc-b56924ff2216",
   "metadata": {},
   "source": [
    "W의 합을 구하는 수식은 $ x = \\sum_{i=0}^{N-1} W_i $ 입니다."
   ]
  },
  {
   "cell_type": "markdown",
   "id": "42e0b48b-19ae-4e7f-baec-21d0b25f7a4f",
   "metadata": {},
   "source": [
    "W의 합을 구하는 수식은 $ x = \\sum_{i=0}^{N-1} W_i $ 입니다."
   ]
  },
  {
   "cell_type": "raw",
   "id": "0b47c838-2a20-4cd3-a763-18b797cbc981",
   "metadata": {},
   "source": [
    "$$ x = \\sum_{i=0}^{N-1} W_i $$"
   ]
  },
  {
   "cell_type": "markdown",
   "id": "a719b02f-f69c-4d68-8c1c-dbee8f470b3c",
   "metadata": {},
   "source": [
    "$$ x = \\sum_{i=0}^{N-1} W_i $$"
   ]
  }
 ],
 "metadata": {
  "kernelspec": {
   "display_name": "Python 3 (ipykernel)",
   "language": "python",
   "name": "python3"
  },
  "language_info": {
   "codemirror_mode": {
    "name": "ipython",
    "version": 3
   },
   "file_extension": ".py",
   "mimetype": "text/x-python",
   "name": "python",
   "nbconvert_exporter": "python",
   "pygments_lexer": "ipython3",
   "version": "3.8.19"
  }
 },
 "nbformat": 4,
 "nbformat_minor": 5
}
