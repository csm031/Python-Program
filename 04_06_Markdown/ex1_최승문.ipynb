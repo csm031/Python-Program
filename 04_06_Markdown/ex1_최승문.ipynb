{
 "cells": [
  {
   "cell_type": "markdown",
   "id": "33e6a68d-3c66-42bc-8baf-c0f319aa5f05",
   "metadata": {},
   "source": [
    "# 파이썬 프로그래밍"
   ]
  },
  {
   "cell_type": "markdown",
   "id": "e1a7c71b-aab7-493e-b2d0-01be82afa812",
   "metadata": {},
   "source": [
    "## 교과목 개요"
   ]
  },
  {
   "cell_type": "markdown",
   "id": "7b9cbf05-bed3-4d85-acfb-41dfeb02fc4f",
   "metadata": {},
   "source": [
    "- 머신러닝은 컴퓨터가 데이터를 학습함으로써 패턴을 인식하여 목표값을 예측하고 의사결정을 내리는 인공지능 분야의 한 영역입니다.\n",
    "- 이 교과목은 학생들에게 머신러닝의 기본 개념, 알고리즘, 응용 및 적용에 대한 이해를 제공합니다.\n",
    "- 학생들은 본 강의에서 주어진 데이터셋에서 문제를 해결하고 머신러닝 모델을 구축/학습하는 데 필요한 실용적인 기술과 지식을 습득할 수 있습니다."
   ]
  },
  {
   "cell_type": "markdown",
   "id": "396083a8-1783-4623-9431-8eb61f6a2f6f",
   "metadata": {},
   "source": [
    "# 주의"
   ]
  },
  {
   "cell_type": "markdown",
   "id": "885fd9c9-bd46-4b5d-b4e8-a1dec3509ed5",
   "metadata": {},
   "source": [
    "![](https://encrypted-tbn0.gstatic.com/images?q=tbn:ANd9GcT1hKceu5UjJ04PVu7M9768DxLXqKiqO3d1NJFFd2kWEhtKIpzKYs7I&usqp=CAE&s)"
   ]
  },
  {
   "cell_type": "markdown",
   "id": "f0f4a81a-d6c8-461e-aa05-415e96034037",
   "metadata": {},
   "source": [
    "\\- 수업 출석률이 **총 수업시간의 3/4에 미달한 학생**은 정기시험, 재시험 또는 추가시험에 응시할 수 없으며, **성적은 F(0점) 처리**한다."
   ]
  },
  {
   "cell_type": "markdown",
   "id": "ed748f97-80e7-4aeb-a9bd-150d16332546",
   "metadata": {},
   "source": [
    "## Python 기초"
   ]
  },
  {
   "cell_type": "markdown",
   "id": "55b0a7b8-9749-45f0-bd1c-a18fd41fb095",
   "metadata": {},
   "source": [
    "- 텍스트 출력하기: print(text)"
   ]
  },
  {
   "cell_type": "code",
   "execution_count": 5,
   "id": "4a5e4c9e-2c50-47e1-bf5b-fcaf036024ea",
   "metadata": {},
   "outputs": [
    {
     "name": "stdout",
     "output_type": "stream",
     "text": [
      "hello world\n"
     ]
    }
   ],
   "source": [
    "print(\"hello world\")"
   ]
  }
 ],
 "metadata": {
  "kernelspec": {
   "display_name": "Python 3 (ipykernel)",
   "language": "python",
   "name": "python3"
  },
  "language_info": {
   "codemirror_mode": {
    "name": "ipython",
    "version": 3
   },
   "file_extension": ".py",
   "mimetype": "text/x-python",
   "name": "python",
   "nbconvert_exporter": "python",
   "pygments_lexer": "ipython3",
   "version": "3.8.19"
  }
 },
 "nbformat": 4,
 "nbformat_minor": 5
}
